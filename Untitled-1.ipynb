{
 "cells": [
  {
   "cell_type": "code",
   "execution_count": 1,
   "metadata": {},
   "outputs": [],
   "source": [
    "import preprocess\n",
    "import pandas as pd\n",
    "import numpy as np\n",
    "import itertools"
   ]
  },
  {
   "cell_type": "code",
   "execution_count": 22,
   "metadata": {},
   "outputs": [],
   "source": [
    "spam = preprocess.parser(\"dawcy/oferty\", 1)\n",
    "ham = preprocess.parser(\"dawcy/studencka\", 0)\n",
    "spam_domains = list(preprocess.detect_url(spam))\n",
    "merged_spam_domains = list(itertools.chain(*spam_domains))\n",
    "#spam_domains, spam_domains_count = np.unique(merged_spam_domains, return_counts=1)\n"
   ]
  },
  {
   "cell_type": "code",
   "execution_count": 28,
   "metadata": {},
   "outputs": [
    {
     "data": {
      "text/plain": [
       "tracking.zuwi.pl               5632\n",
       "click.mediamarkt.pl            2067\n",
       "t.email.hm.com                 1871\n",
       "system3secure.pl               1088\n",
       "ad.doubleclick.net              832\n",
       "ad.bonprixshop.eu               575\n",
       "redir.marketing.allegro.pl      532\n",
       "www.leroymerlin.pl              347\n",
       "info.diamondtrack.pl            279\n",
       "s1.newletter-leroymerlin.pl     228\n",
       "la-sender.pl                    217\n",
       "gde-default.hit.gemius.pl       160\n",
       "cdn.netsalesmedia.pl             88\n",
       "tr.la-sender.pl                  83\n",
       "phoenix-sender.pl                23\n",
       "news.send360.pl                   6\n",
       "dtype: int64"
      ]
     },
     "execution_count": 28,
     "metadata": {},
     "output_type": "execute_result"
    }
   ],
   "source": [
    "df_domains = pd.Series.value_counts(merged_spam_domains)\n",
    "df_domains"
   ]
  },
  {
   "cell_type": "code",
   "execution_count": null,
   "metadata": {},
   "outputs": [],
   "source": []
  }
 ],
 "metadata": {
  "kernelspec": {
   "display_name": "Python 3",
   "language": "python",
   "name": "python3"
  },
  "language_info": {
   "codemirror_mode": {
    "name": "ipython",
    "version": 3
   },
   "file_extension": ".py",
   "mimetype": "text/x-python",
   "name": "python",
   "nbconvert_exporter": "python",
   "pygments_lexer": "ipython3",
   "version": "3.10.8"
  },
  "orig_nbformat": 4,
  "vscode": {
   "interpreter": {
    "hash": "767d51c1340bd893661ea55ea3124f6de3c7a262a8b4abca0554b478b1e2ff90"
   }
  }
 },
 "nbformat": 4,
 "nbformat_minor": 2
}
